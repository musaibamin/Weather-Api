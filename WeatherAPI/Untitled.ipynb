{
 "cells": [
  {
   "cell_type": "code",
   "execution_count": 1,
   "id": "35df9068",
   "metadata": {},
   "outputs": [],
   "source": [
    "import pandas as pd"
   ]
  },
  {
   "cell_type": "code",
   "execution_count": 2,
   "id": "6d61fbf9",
   "metadata": {},
   "outputs": [],
   "source": [
    "import os"
   ]
  },
  {
   "cell_type": "code",
   "execution_count": 3,
   "id": "268e58d1",
   "metadata": {},
   "outputs": [],
   "source": [
    "csvs = os.listdir('weather_data')"
   ]
  },
  {
   "cell_type": "code",
   "execution_count": 4,
   "id": "344bc34d",
   "metadata": {},
   "outputs": [
    {
     "data": {
      "text/plain": [
       "['Amritsar.csv',\n",
       " 'Barnala.csv',\n",
       " 'Bathinda.csv',\n",
       " 'Faridkot.csv',\n",
       " 'FatehgarhSahib.csv',\n",
       " 'Fazilka.csv',\n",
       " 'Firozpur.csv',\n",
       " 'Gurdaspur.csv',\n",
       " 'Hoshiarpur.csv',\n",
       " 'Jalandhar.csv',\n",
       " 'Kapurthala.csv',\n",
       " 'Ludhiana.csv',\n",
       " 'Mansa.csv',\n",
       " 'Moga.csv',\n",
       " 'Muktsar.csv',\n",
       " 'Pathankot.csv',\n",
       " 'Patiala.csv',\n",
       " 'Rupnagar.csv',\n",
       " 'SahibzadaAjitSinghNagar.csv',\n",
       " 'Sangrur.csv',\n",
       " 'SBSNagar.csv',\n",
       " 'Tarn Taran.csv']"
      ]
     },
     "execution_count": 4,
     "metadata": {},
     "output_type": "execute_result"
    }
   ],
   "source": [
    "csvs"
   ]
  },
  {
   "cell_type": "code",
   "execution_count": 77,
   "id": "fc0ef6e8",
   "metadata": {},
   "outputs": [],
   "source": [
    "x = 'Amritsar.csv'"
   ]
  },
  {
   "cell_type": "code",
   "execution_count": 6,
   "id": "13359d2a",
   "metadata": {},
   "outputs": [
    {
     "data": {
      "text/plain": [
       "'Amritsar'"
      ]
     },
     "execution_count": 6,
     "metadata": {},
     "output_type": "execute_result"
    }
   ],
   "source": [
    "x.split(\".\")[0]"
   ]
  },
  {
   "cell_type": "code",
   "execution_count": 79,
   "id": "d0c7609f",
   "metadata": {},
   "outputs": [],
   "source": [
    "csvs = os.listdir('weather_data')\n",
    "csvdata = dict()\n",
    "\n",
    "for csv in csvs:\n",
    "    csvdata[csv.split(\".csv\")[0]] = pd.read_csv('weather_data/'+csv)"
   ]
  },
  {
   "cell_type": "code",
   "execution_count": 81,
   "id": "38e5c375",
   "metadata": {},
   "outputs": [
    {
     "data": {
      "text/html": [
       "<div>\n",
       "<style scoped>\n",
       "    .dataframe tbody tr th:only-of-type {\n",
       "        vertical-align: middle;\n",
       "    }\n",
       "\n",
       "    .dataframe tbody tr th {\n",
       "        vertical-align: top;\n",
       "    }\n",
       "\n",
       "    .dataframe thead th {\n",
       "        text-align: right;\n",
       "    }\n",
       "</style>\n",
       "<table border=\"1\" class=\"dataframe\">\n",
       "  <thead>\n",
       "    <tr style=\"text-align: right;\">\n",
       "      <th></th>\n",
       "      <th>YEAR</th>\n",
       "      <th>DOY</th>\n",
       "      <th>T2M</th>\n",
       "      <th>TS</th>\n",
       "      <th>T2M_RANGE</th>\n",
       "      <th>T2M_MAX</th>\n",
       "      <th>T2M_MIN</th>\n",
       "      <th>QV2M</th>\n",
       "      <th>RH2M</th>\n",
       "      <th>PRECTOTCORR</th>\n",
       "      <th>WS2M</th>\n",
       "      <th>WS2M_MAX</th>\n",
       "      <th>WS2M_MIN</th>\n",
       "      <th>WS2M_RANGE</th>\n",
       "    </tr>\n",
       "  </thead>\n",
       "  <tbody>\n",
       "    <tr>\n",
       "      <th>0</th>\n",
       "      <td>1983</td>\n",
       "      <td>1</td>\n",
       "      <td>11.83</td>\n",
       "      <td>11.90</td>\n",
       "      <td>15.03</td>\n",
       "      <td>20.90</td>\n",
       "      <td>5.87</td>\n",
       "      <td>5.19</td>\n",
       "      <td>63.44</td>\n",
       "      <td>0.0</td>\n",
       "      <td>1.64</td>\n",
       "      <td>2.95</td>\n",
       "      <td>0.88</td>\n",
       "      <td>2.07</td>\n",
       "    </tr>\n",
       "    <tr>\n",
       "      <th>1</th>\n",
       "      <td>1983</td>\n",
       "      <td>2</td>\n",
       "      <td>10.04</td>\n",
       "      <td>9.37</td>\n",
       "      <td>16.37</td>\n",
       "      <td>19.26</td>\n",
       "      <td>2.89</td>\n",
       "      <td>3.66</td>\n",
       "      <td>51.81</td>\n",
       "      <td>0.0</td>\n",
       "      <td>2.13</td>\n",
       "      <td>4.01</td>\n",
       "      <td>1.02</td>\n",
       "      <td>2.99</td>\n",
       "    </tr>\n",
       "    <tr>\n",
       "      <th>2</th>\n",
       "      <td>1983</td>\n",
       "      <td>3</td>\n",
       "      <td>12.38</td>\n",
       "      <td>9.56</td>\n",
       "      <td>13.23</td>\n",
       "      <td>19.40</td>\n",
       "      <td>6.16</td>\n",
       "      <td>3.54</td>\n",
       "      <td>40.62</td>\n",
       "      <td>0.0</td>\n",
       "      <td>0.83</td>\n",
       "      <td>1.70</td>\n",
       "      <td>0.25</td>\n",
       "      <td>1.45</td>\n",
       "    </tr>\n",
       "    <tr>\n",
       "      <th>3</th>\n",
       "      <td>1983</td>\n",
       "      <td>4</td>\n",
       "      <td>12.98</td>\n",
       "      <td>10.98</td>\n",
       "      <td>15.22</td>\n",
       "      <td>21.08</td>\n",
       "      <td>5.87</td>\n",
       "      <td>3.54</td>\n",
       "      <td>40.06</td>\n",
       "      <td>0.0</td>\n",
       "      <td>1.13</td>\n",
       "      <td>1.67</td>\n",
       "      <td>0.52</td>\n",
       "      <td>1.16</td>\n",
       "    </tr>\n",
       "    <tr>\n",
       "      <th>4</th>\n",
       "      <td>1983</td>\n",
       "      <td>5</td>\n",
       "      <td>12.69</td>\n",
       "      <td>11.81</td>\n",
       "      <td>14.87</td>\n",
       "      <td>21.18</td>\n",
       "      <td>6.31</td>\n",
       "      <td>3.60</td>\n",
       "      <td>40.81</td>\n",
       "      <td>0.0</td>\n",
       "      <td>1.25</td>\n",
       "      <td>2.01</td>\n",
       "      <td>0.59</td>\n",
       "      <td>1.41</td>\n",
       "    </tr>\n",
       "    <tr>\n",
       "      <th>...</th>\n",
       "      <td>...</td>\n",
       "      <td>...</td>\n",
       "      <td>...</td>\n",
       "      <td>...</td>\n",
       "      <td>...</td>\n",
       "      <td>...</td>\n",
       "      <td>...</td>\n",
       "      <td>...</td>\n",
       "      <td>...</td>\n",
       "      <td>...</td>\n",
       "      <td>...</td>\n",
       "      <td>...</td>\n",
       "      <td>...</td>\n",
       "      <td>...</td>\n",
       "    </tr>\n",
       "    <tr>\n",
       "      <th>15095</th>\n",
       "      <td>2024</td>\n",
       "      <td>121</td>\n",
       "      <td>27.76</td>\n",
       "      <td>30.50</td>\n",
       "      <td>18.25</td>\n",
       "      <td>37.08</td>\n",
       "      <td>18.83</td>\n",
       "      <td>7.02</td>\n",
       "      <td>36.12</td>\n",
       "      <td>0.0</td>\n",
       "      <td>2.93</td>\n",
       "      <td>7.61</td>\n",
       "      <td>1.15</td>\n",
       "      <td>6.46</td>\n",
       "    </tr>\n",
       "    <tr>\n",
       "      <th>15096</th>\n",
       "      <td>2024</td>\n",
       "      <td>122</td>\n",
       "      <td>25.10</td>\n",
       "      <td>26.85</td>\n",
       "      <td>16.30</td>\n",
       "      <td>33.08</td>\n",
       "      <td>16.78</td>\n",
       "      <td>5.68</td>\n",
       "      <td>32.38</td>\n",
       "      <td>0.0</td>\n",
       "      <td>3.34</td>\n",
       "      <td>5.80</td>\n",
       "      <td>1.20</td>\n",
       "      <td>4.61</td>\n",
       "    </tr>\n",
       "    <tr>\n",
       "      <th>15097</th>\n",
       "      <td>2024</td>\n",
       "      <td>123</td>\n",
       "      <td>28.30</td>\n",
       "      <td>29.94</td>\n",
       "      <td>19.78</td>\n",
       "      <td>38.00</td>\n",
       "      <td>18.22</td>\n",
       "      <td>4.76</td>\n",
       "      <td>21.88</td>\n",
       "      <td>0.0</td>\n",
       "      <td>2.21</td>\n",
       "      <td>4.18</td>\n",
       "      <td>1.08</td>\n",
       "      <td>3.10</td>\n",
       "    </tr>\n",
       "    <tr>\n",
       "      <th>15098</th>\n",
       "      <td>2024</td>\n",
       "      <td>124</td>\n",
       "      <td>30.31</td>\n",
       "      <td>30.46</td>\n",
       "      <td>16.23</td>\n",
       "      <td>38.19</td>\n",
       "      <td>21.98</td>\n",
       "      <td>4.39</td>\n",
       "      <td>17.50</td>\n",
       "      <td>0.0</td>\n",
       "      <td>2.04</td>\n",
       "      <td>3.89</td>\n",
       "      <td>0.74</td>\n",
       "      <td>3.15</td>\n",
       "    </tr>\n",
       "    <tr>\n",
       "      <th>15099</th>\n",
       "      <td>2024</td>\n",
       "      <td>125</td>\n",
       "      <td>-999.00</td>\n",
       "      <td>-999.00</td>\n",
       "      <td>-999.00</td>\n",
       "      <td>-999.00</td>\n",
       "      <td>-999.00</td>\n",
       "      <td>-999.00</td>\n",
       "      <td>-999.00</td>\n",
       "      <td>-999.0</td>\n",
       "      <td>-999.00</td>\n",
       "      <td>-999.00</td>\n",
       "      <td>-999.00</td>\n",
       "      <td>-999.00</td>\n",
       "    </tr>\n",
       "  </tbody>\n",
       "</table>\n",
       "<p>15100 rows × 14 columns</p>\n",
       "</div>"
      ],
      "text/plain": [
       "       YEAR  DOY     T2M      TS  T2M_RANGE  T2M_MAX  T2M_MIN    QV2M    RH2M  \\\n",
       "0      1983    1   11.83   11.90      15.03    20.90     5.87    5.19   63.44   \n",
       "1      1983    2   10.04    9.37      16.37    19.26     2.89    3.66   51.81   \n",
       "2      1983    3   12.38    9.56      13.23    19.40     6.16    3.54   40.62   \n",
       "3      1983    4   12.98   10.98      15.22    21.08     5.87    3.54   40.06   \n",
       "4      1983    5   12.69   11.81      14.87    21.18     6.31    3.60   40.81   \n",
       "...     ...  ...     ...     ...        ...      ...      ...     ...     ...   \n",
       "15095  2024  121   27.76   30.50      18.25    37.08    18.83    7.02   36.12   \n",
       "15096  2024  122   25.10   26.85      16.30    33.08    16.78    5.68   32.38   \n",
       "15097  2024  123   28.30   29.94      19.78    38.00    18.22    4.76   21.88   \n",
       "15098  2024  124   30.31   30.46      16.23    38.19    21.98    4.39   17.50   \n",
       "15099  2024  125 -999.00 -999.00    -999.00  -999.00  -999.00 -999.00 -999.00   \n",
       "\n",
       "       PRECTOTCORR    WS2M  WS2M_MAX  WS2M_MIN  WS2M_RANGE  \n",
       "0              0.0    1.64      2.95      0.88        2.07  \n",
       "1              0.0    2.13      4.01      1.02        2.99  \n",
       "2              0.0    0.83      1.70      0.25        1.45  \n",
       "3              0.0    1.13      1.67      0.52        1.16  \n",
       "4              0.0    1.25      2.01      0.59        1.41  \n",
       "...            ...     ...       ...       ...         ...  \n",
       "15095          0.0    2.93      7.61      1.15        6.46  \n",
       "15096          0.0    3.34      5.80      1.20        4.61  \n",
       "15097          0.0    2.21      4.18      1.08        3.10  \n",
       "15098          0.0    2.04      3.89      0.74        3.15  \n",
       "15099       -999.0 -999.00   -999.00   -999.00     -999.00  \n",
       "\n",
       "[15100 rows x 14 columns]"
      ]
     },
     "execution_count": 81,
     "metadata": {},
     "output_type": "execute_result"
    }
   ],
   "source": [
    "csvdata['Bathinda']"
   ]
  },
  {
   "cell_type": "code",
   "execution_count": 9,
   "id": "b645ff60",
   "metadata": {},
   "outputs": [
    {
     "data": {
      "text/plain": [
       "Index(['YEAR', 'DOY', 'T2M', 'TS', 'T2M_RANGE', 'T2M_MAX', 'T2M_MIN', 'QV2M',\n",
       "       'RH2M', 'PRECTOTCORR', 'WS2M', 'WS2M_MAX', 'WS2M_MIN', 'WS2M_RANGE'],\n",
       "      dtype='object')"
      ]
     },
     "execution_count": 9,
     "metadata": {},
     "output_type": "execute_result"
    }
   ],
   "source": [
    "csvdata['Bathinda'].columns"
   ]
  },
  {
   "cell_type": "code",
   "execution_count": 10,
   "id": "5d0e3fbd",
   "metadata": {},
   "outputs": [],
   "source": [
    "columns = ['YEAR', 'DOY', 'T2M', 'TS', 'T2M_MAX', 'T2M_MIN', 'QV2M', 'RH2M', 'PRECTOTCORR', 'WS2M_MAX', 'WS2M_MIN']"
   ]
  },
  {
   "cell_type": "code",
   "execution_count": 83,
   "id": "57690809",
   "metadata": {
    "scrolled": false
   },
   "outputs": [
    {
     "name": "stdout",
     "output_type": "stream",
     "text": [
      "Amritsar\n",
      "Barnala\n",
      "Bathinda\n",
      "Faridkot\n",
      "FatehgarhSahib\n",
      "Fazilka\n",
      "Firozpur\n",
      "Gurdaspur\n",
      "Hoshiarpur\n",
      "Jalandhar\n",
      "Kapurthala\n",
      "Ludhiana\n",
      "Mansa\n",
      "Moga\n",
      "Muktsar\n",
      "Pathankot\n",
      "Patiala\n",
      "Rupnagar\n",
      "SahibzadaAjitSinghNagar\n",
      "Sangrur\n",
      "SBSNagar\n",
      "Tarn Taran\n"
     ]
    }
   ],
   "source": [
    "try:\n",
    "    for key, value in csvdata.items():\n",
    "        if value[columns].shape[0] < 15100:\n",
    "            pass\n",
    "        print(key)\n",
    "except Exception as e:\n",
    "    print(e)"
   ]
  },
  {
   "cell_type": "code",
   "execution_count": 12,
   "id": "792800fd",
   "metadata": {},
   "outputs": [],
   "source": [
    "from datetime import datetime"
   ]
  },
  {
   "cell_type": "code",
   "execution_count": 13,
   "id": "f89afa38",
   "metadata": {},
   "outputs": [
    {
     "data": {
      "text/html": [
       "<div>\n",
       "<style scoped>\n",
       "    .dataframe tbody tr th:only-of-type {\n",
       "        vertical-align: middle;\n",
       "    }\n",
       "\n",
       "    .dataframe tbody tr th {\n",
       "        vertical-align: top;\n",
       "    }\n",
       "\n",
       "    .dataframe thead th {\n",
       "        text-align: right;\n",
       "    }\n",
       "</style>\n",
       "<table border=\"1\" class=\"dataframe\">\n",
       "  <thead>\n",
       "    <tr style=\"text-align: right;\">\n",
       "      <th></th>\n",
       "      <th>YEAR</th>\n",
       "      <th>DOY</th>\n",
       "      <th>T2M</th>\n",
       "      <th>TS</th>\n",
       "      <th>T2M_RANGE</th>\n",
       "      <th>T2M_MAX</th>\n",
       "      <th>T2M_MIN</th>\n",
       "      <th>QV2M</th>\n",
       "      <th>RH2M</th>\n",
       "      <th>PRECTOTCORR</th>\n",
       "      <th>WS2M</th>\n",
       "      <th>WS2M_MAX</th>\n",
       "      <th>WS2M_MIN</th>\n",
       "      <th>WS2M_RANGE</th>\n",
       "    </tr>\n",
       "  </thead>\n",
       "  <tbody>\n",
       "    <tr>\n",
       "      <th>0</th>\n",
       "      <td>1983</td>\n",
       "      <td>1</td>\n",
       "      <td>11.83</td>\n",
       "      <td>11.90</td>\n",
       "      <td>15.03</td>\n",
       "      <td>20.90</td>\n",
       "      <td>5.87</td>\n",
       "      <td>5.19</td>\n",
       "      <td>63.44</td>\n",
       "      <td>0.0</td>\n",
       "      <td>1.64</td>\n",
       "      <td>2.95</td>\n",
       "      <td>0.88</td>\n",
       "      <td>2.07</td>\n",
       "    </tr>\n",
       "    <tr>\n",
       "      <th>1</th>\n",
       "      <td>1983</td>\n",
       "      <td>2</td>\n",
       "      <td>10.04</td>\n",
       "      <td>9.37</td>\n",
       "      <td>16.37</td>\n",
       "      <td>19.26</td>\n",
       "      <td>2.89</td>\n",
       "      <td>3.66</td>\n",
       "      <td>51.81</td>\n",
       "      <td>0.0</td>\n",
       "      <td>2.13</td>\n",
       "      <td>4.01</td>\n",
       "      <td>1.02</td>\n",
       "      <td>2.99</td>\n",
       "    </tr>\n",
       "    <tr>\n",
       "      <th>2</th>\n",
       "      <td>1983</td>\n",
       "      <td>3</td>\n",
       "      <td>12.38</td>\n",
       "      <td>9.56</td>\n",
       "      <td>13.23</td>\n",
       "      <td>19.40</td>\n",
       "      <td>6.16</td>\n",
       "      <td>3.54</td>\n",
       "      <td>40.62</td>\n",
       "      <td>0.0</td>\n",
       "      <td>0.83</td>\n",
       "      <td>1.70</td>\n",
       "      <td>0.25</td>\n",
       "      <td>1.45</td>\n",
       "    </tr>\n",
       "    <tr>\n",
       "      <th>3</th>\n",
       "      <td>1983</td>\n",
       "      <td>4</td>\n",
       "      <td>12.98</td>\n",
       "      <td>10.98</td>\n",
       "      <td>15.22</td>\n",
       "      <td>21.08</td>\n",
       "      <td>5.87</td>\n",
       "      <td>3.54</td>\n",
       "      <td>40.06</td>\n",
       "      <td>0.0</td>\n",
       "      <td>1.13</td>\n",
       "      <td>1.67</td>\n",
       "      <td>0.52</td>\n",
       "      <td>1.16</td>\n",
       "    </tr>\n",
       "    <tr>\n",
       "      <th>4</th>\n",
       "      <td>1983</td>\n",
       "      <td>5</td>\n",
       "      <td>12.69</td>\n",
       "      <td>11.81</td>\n",
       "      <td>14.87</td>\n",
       "      <td>21.18</td>\n",
       "      <td>6.31</td>\n",
       "      <td>3.60</td>\n",
       "      <td>40.81</td>\n",
       "      <td>0.0</td>\n",
       "      <td>1.25</td>\n",
       "      <td>2.01</td>\n",
       "      <td>0.59</td>\n",
       "      <td>1.41</td>\n",
       "    </tr>\n",
       "    <tr>\n",
       "      <th>...</th>\n",
       "      <td>...</td>\n",
       "      <td>...</td>\n",
       "      <td>...</td>\n",
       "      <td>...</td>\n",
       "      <td>...</td>\n",
       "      <td>...</td>\n",
       "      <td>...</td>\n",
       "      <td>...</td>\n",
       "      <td>...</td>\n",
       "      <td>...</td>\n",
       "      <td>...</td>\n",
       "      <td>...</td>\n",
       "      <td>...</td>\n",
       "      <td>...</td>\n",
       "    </tr>\n",
       "    <tr>\n",
       "      <th>15095</th>\n",
       "      <td>2024</td>\n",
       "      <td>121</td>\n",
       "      <td>27.76</td>\n",
       "      <td>30.50</td>\n",
       "      <td>18.25</td>\n",
       "      <td>37.08</td>\n",
       "      <td>18.83</td>\n",
       "      <td>7.02</td>\n",
       "      <td>36.12</td>\n",
       "      <td>0.0</td>\n",
       "      <td>2.93</td>\n",
       "      <td>7.61</td>\n",
       "      <td>1.15</td>\n",
       "      <td>6.46</td>\n",
       "    </tr>\n",
       "    <tr>\n",
       "      <th>15096</th>\n",
       "      <td>2024</td>\n",
       "      <td>122</td>\n",
       "      <td>25.10</td>\n",
       "      <td>26.85</td>\n",
       "      <td>16.30</td>\n",
       "      <td>33.08</td>\n",
       "      <td>16.78</td>\n",
       "      <td>5.68</td>\n",
       "      <td>32.38</td>\n",
       "      <td>0.0</td>\n",
       "      <td>3.34</td>\n",
       "      <td>5.80</td>\n",
       "      <td>1.20</td>\n",
       "      <td>4.61</td>\n",
       "    </tr>\n",
       "    <tr>\n",
       "      <th>15097</th>\n",
       "      <td>2024</td>\n",
       "      <td>123</td>\n",
       "      <td>28.30</td>\n",
       "      <td>29.94</td>\n",
       "      <td>19.78</td>\n",
       "      <td>38.00</td>\n",
       "      <td>18.22</td>\n",
       "      <td>4.76</td>\n",
       "      <td>21.88</td>\n",
       "      <td>0.0</td>\n",
       "      <td>2.21</td>\n",
       "      <td>4.18</td>\n",
       "      <td>1.08</td>\n",
       "      <td>3.10</td>\n",
       "    </tr>\n",
       "    <tr>\n",
       "      <th>15098</th>\n",
       "      <td>2024</td>\n",
       "      <td>124</td>\n",
       "      <td>30.31</td>\n",
       "      <td>30.46</td>\n",
       "      <td>16.23</td>\n",
       "      <td>38.19</td>\n",
       "      <td>21.98</td>\n",
       "      <td>4.39</td>\n",
       "      <td>17.50</td>\n",
       "      <td>0.0</td>\n",
       "      <td>2.04</td>\n",
       "      <td>3.89</td>\n",
       "      <td>0.74</td>\n",
       "      <td>3.15</td>\n",
       "    </tr>\n",
       "    <tr>\n",
       "      <th>15099</th>\n",
       "      <td>2024</td>\n",
       "      <td>125</td>\n",
       "      <td>-999.00</td>\n",
       "      <td>-999.00</td>\n",
       "      <td>-999.00</td>\n",
       "      <td>-999.00</td>\n",
       "      <td>-999.00</td>\n",
       "      <td>-999.00</td>\n",
       "      <td>-999.00</td>\n",
       "      <td>-999.0</td>\n",
       "      <td>-999.00</td>\n",
       "      <td>-999.00</td>\n",
       "      <td>-999.00</td>\n",
       "      <td>-999.00</td>\n",
       "    </tr>\n",
       "  </tbody>\n",
       "</table>\n",
       "<p>15100 rows × 14 columns</p>\n",
       "</div>"
      ],
      "text/plain": [
       "       YEAR  DOY     T2M      TS  T2M_RANGE  T2M_MAX  T2M_MIN    QV2M    RH2M  \\\n",
       "0      1983    1   11.83   11.90      15.03    20.90     5.87    5.19   63.44   \n",
       "1      1983    2   10.04    9.37      16.37    19.26     2.89    3.66   51.81   \n",
       "2      1983    3   12.38    9.56      13.23    19.40     6.16    3.54   40.62   \n",
       "3      1983    4   12.98   10.98      15.22    21.08     5.87    3.54   40.06   \n",
       "4      1983    5   12.69   11.81      14.87    21.18     6.31    3.60   40.81   \n",
       "...     ...  ...     ...     ...        ...      ...      ...     ...     ...   \n",
       "15095  2024  121   27.76   30.50      18.25    37.08    18.83    7.02   36.12   \n",
       "15096  2024  122   25.10   26.85      16.30    33.08    16.78    5.68   32.38   \n",
       "15097  2024  123   28.30   29.94      19.78    38.00    18.22    4.76   21.88   \n",
       "15098  2024  124   30.31   30.46      16.23    38.19    21.98    4.39   17.50   \n",
       "15099  2024  125 -999.00 -999.00    -999.00  -999.00  -999.00 -999.00 -999.00   \n",
       "\n",
       "       PRECTOTCORR    WS2M  WS2M_MAX  WS2M_MIN  WS2M_RANGE  \n",
       "0              0.0    1.64      2.95      0.88        2.07  \n",
       "1              0.0    2.13      4.01      1.02        2.99  \n",
       "2              0.0    0.83      1.70      0.25        1.45  \n",
       "3              0.0    1.13      1.67      0.52        1.16  \n",
       "4              0.0    1.25      2.01      0.59        1.41  \n",
       "...            ...     ...       ...       ...         ...  \n",
       "15095          0.0    2.93      7.61      1.15        6.46  \n",
       "15096          0.0    3.34      5.80      1.20        4.61  \n",
       "15097          0.0    2.21      4.18      1.08        3.10  \n",
       "15098          0.0    2.04      3.89      0.74        3.15  \n",
       "15099       -999.0 -999.00   -999.00   -999.00     -999.00  \n",
       "\n",
       "[15100 rows x 14 columns]"
      ]
     },
     "execution_count": 13,
     "metadata": {},
     "output_type": "execute_result"
    }
   ],
   "source": [
    "csvdata['Bathinda']"
   ]
  },
  {
   "cell_type": "code",
   "execution_count": 14,
   "id": "f9155d29",
   "metadata": {},
   "outputs": [],
   "source": [
    "date_str = \"2024-05-09\""
   ]
  },
  {
   "cell_type": "code",
   "execution_count": 15,
   "id": "cf753acf",
   "metadata": {},
   "outputs": [],
   "source": [
    "date_obj = datetime.strptime(date_str, '%Y-%m-%d')"
   ]
  },
  {
   "cell_type": "code",
   "execution_count": 16,
   "id": "36e7a666",
   "metadata": {},
   "outputs": [
    {
     "data": {
      "text/plain": [
       "datetime.datetime(2024, 5, 9, 0, 0)"
      ]
     },
     "execution_count": 16,
     "metadata": {},
     "output_type": "execute_result"
    }
   ],
   "source": [
    "date_obj"
   ]
  },
  {
   "cell_type": "code",
   "execution_count": 17,
   "id": "cbc43ca9",
   "metadata": {},
   "outputs": [],
   "source": [
    "year = date_obj.year"
   ]
  },
  {
   "cell_type": "code",
   "execution_count": 18,
   "id": "3e3cf775",
   "metadata": {},
   "outputs": [
    {
     "data": {
      "text/plain": [
       "2024"
      ]
     },
     "execution_count": 18,
     "metadata": {},
     "output_type": "execute_result"
    }
   ],
   "source": [
    "year"
   ]
  },
  {
   "cell_type": "code",
   "execution_count": 19,
   "id": "50188dde",
   "metadata": {},
   "outputs": [],
   "source": [
    "day_of_year = date_obj.timetuple().tm_yday"
   ]
  },
  {
   "cell_type": "code",
   "execution_count": 20,
   "id": "60d7b8f5",
   "metadata": {},
   "outputs": [
    {
     "data": {
      "text/plain": [
       "130"
      ]
     },
     "execution_count": 20,
     "metadata": {},
     "output_type": "execute_result"
    }
   ],
   "source": [
    "day_of_year"
   ]
  },
  {
   "cell_type": "code",
   "execution_count": 26,
   "id": "4f03e6fd",
   "metadata": {},
   "outputs": [],
   "source": [
    "def get_day_of_year(date_str):  #because in CSV, the date is not in DD-MM-YYYY format so we need to convert the input date given by user to its number of day of the year ranging from 1-365\n",
    "    # Convert the date string to a datetime object\n",
    "    date_obj = datetime.strptime(date_str, '%Y-%m-%d')\n",
    "    # Get the year\n",
    "    year = date_obj.year\n",
    "    # Get the day of the year (1-based index)\n",
    "    day_of_year = date_obj.timetuple().tm_yday \n",
    "    return year, day_of_year"
   ]
  },
  {
   "cell_type": "code",
   "execution_count": 40,
   "id": "beda6652",
   "metadata": {},
   "outputs": [
    {
     "name": "stdout",
     "output_type": "stream",
     "text": [
      "2024 106\n"
     ]
    }
   ],
   "source": [
    "inputDate = '2024-04-15'\n",
    "inputyear, day_of_the_year = get_day_of_year(inputDate)\n",
    "print(inputyear,day_of_the_year)"
   ]
  },
  {
   "cell_type": "code",
   "execution_count": 41,
   "id": "032ed12a",
   "metadata": {},
   "outputs": [
    {
     "data": {
      "text/plain": [
       "int"
      ]
     },
     "execution_count": 41,
     "metadata": {},
     "output_type": "execute_result"
    }
   ],
   "source": [
    "type(inputyear)"
   ]
  },
  {
   "cell_type": "code",
   "execution_count": 73,
   "id": "a94959f1",
   "metadata": {},
   "outputs": [],
   "source": [
    "districtdata = csvdata['Bathinda']"
   ]
  },
  {
   "cell_type": "code",
   "execution_count": 75,
   "id": "10738a76",
   "metadata": {},
   "outputs": [
    {
     "data": {
      "text/plain": [
       "15100"
      ]
     },
     "execution_count": 75,
     "metadata": {},
     "output_type": "execute_result"
    }
   ],
   "source": [
    "districtdata.shape[0]"
   ]
  },
  {
   "cell_type": "code",
   "execution_count": 66,
   "id": "b8c08b97",
   "metadata": {},
   "outputs": [],
   "source": [
    "fetched_data = districtdata[(districtdata.YEAR==int(1984)) & (districtdata.DOY==int(day_of_year))]"
   ]
  },
  {
   "cell_type": "code",
   "execution_count": 71,
   "id": "e66af6e3",
   "metadata": {},
   "outputs": [],
   "source": [
    "json_str = fetched_data.to_json(orient='records')"
   ]
  },
  {
   "cell_type": "code",
   "execution_count": 72,
   "id": "c5e1f9d4",
   "metadata": {},
   "outputs": [
    {
     "data": {
      "text/plain": [
       "'[{\"YEAR\":1984,\"DOY\":130,\"T2M\":36.47,\"TS\":38.48,\"T2M_MAX\":45.14,\"T2M_MIN\":27.33,\"QV2M\":5.0,\"RH2M\":13.88,\"PRECTOTCORR\":0.0,\"WS2M_MIN\":0.71,\"WS2M_MAX\":2.73,\"T2M_RANGE\":17.8}]'"
      ]
     },
     "execution_count": 72,
     "metadata": {},
     "output_type": "execute_result"
    }
   ],
   "source": [
    "json_str"
   ]
  },
  {
   "cell_type": "code",
   "execution_count": 55,
   "id": "c519a9e5",
   "metadata": {},
   "outputs": [],
   "source": [
    "import json"
   ]
  },
  {
   "cell_type": "code",
   "execution_count": 97,
   "id": "3690c595",
   "metadata": {},
   "outputs": [
    {
     "data": {
      "text/plain": [
       "{'YEAR': 0    1983\n",
       " Name: YEAR, dtype: int64,\n",
       " 'DOY': 0    1\n",
       " Name: DOY, dtype: int64,\n",
       " 'T2M': 0    11.83\n",
       " Name: T2M, dtype: float64,\n",
       " 'TS': 0    11.9\n",
       " Name: TS, dtype: float64,\n",
       " 'T2M_RANGE': 0    15.03\n",
       " Name: T2M_RANGE, dtype: float64,\n",
       " 'T2M_MAX': 0    20.9\n",
       " Name: T2M_MAX, dtype: float64,\n",
       " 'T2M_MIN': 0    5.87\n",
       " Name: T2M_MIN, dtype: float64,\n",
       " 'QV2M': 0    5.19\n",
       " Name: QV2M, dtype: float64,\n",
       " 'RH2M': 0    63.44\n",
       " Name: RH2M, dtype: float64,\n",
       " 'PRECTOTCORR': 0    0.0\n",
       " Name: PRECTOTCORR, dtype: float64,\n",
       " 'WS2M': 0    1.64\n",
       " Name: WS2M, dtype: float64,\n",
       " 'WS2M_MAX': 0    2.95\n",
       " Name: WS2M_MAX, dtype: float64,\n",
       " 'WS2M_MIN': 0    0.88\n",
       " Name: WS2M_MIN, dtype: float64,\n",
       " 'WS2M_RANGE': 0    2.07\n",
       " Name: WS2M_RANGE, dtype: float64}"
      ]
     },
     "execution_count": 97,
     "metadata": {},
     "output_type": "execute_result"
    }
   ],
   "source": [
    "dict(fetched_data)"
   ]
  },
  {
   "cell_type": "code",
   "execution_count": null,
   "id": "455bac46",
   "metadata": {},
   "outputs": [],
   "source": [
    "filtered_df = df[(df['A'] > 10) & (df['B'] == 'X') & (df['C'].str.contains('keyword'))]"
   ]
  }
 ],
 "metadata": {
  "kernelspec": {
   "display_name": "Python 3 (ipykernel)",
   "language": "python",
   "name": "python3"
  },
  "language_info": {
   "codemirror_mode": {
    "name": "ipython",
    "version": 3
   },
   "file_extension": ".py",
   "mimetype": "text/x-python",
   "name": "python",
   "nbconvert_exporter": "python",
   "pygments_lexer": "ipython3",
   "version": "3.8.17"
  }
 },
 "nbformat": 4,
 "nbformat_minor": 5
}
